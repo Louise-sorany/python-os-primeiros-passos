{
  "nbformat": 4,
  "nbformat_minor": 0,
  "metadata": {
    "colab": {
      "provenance": [],
      "authorship_tag": "ABX9TyO05lVaAnO/C8SnbPqrgc6B",
      "include_colab_link": true
    },
    "kernelspec": {
      "name": "python3",
      "display_name": "Python 3"
    },
    "language_info": {
      "name": "python"
    }
  },
  "cells": [
    {
      "cell_type": "markdown",
      "metadata": {
        "id": "view-in-github",
        "colab_type": "text"
      },
      "source": [
        "<a href=\"https://colab.research.google.com/github/Louise-sorany/python-os-primeiros-passos/blob/master/Aula04.ipynb\" target=\"_parent\"><img src=\"https://colab.research.google.com/assets/colab-badge.svg\" alt=\"Open In Colab\"/></a>"
      ]
    },
    {
      "cell_type": "code",
      "execution_count": 1,
      "metadata": {
        "id": "t_3PYhZPAwnc",
        "colab": {
          "base_uri": "https://localhost:8080/"
        },
        "outputId": "6843682e-16cc-4d6e-c7b0-504058151cfe"
      },
      "outputs": [
        {
          "output_type": "stream",
          "name": "stdout",
          "text": [
            "10\n"
          ]
        }
      ],
      "source": [
        "numero=10\n",
        "\n",
        "texto= \"nome\"\n",
        "\n",
        "texto=10\n",
        "\n",
        "estamosEmAula = True\n",
        "\n",
        "print(numero)"
      ]
    }
  ]
}